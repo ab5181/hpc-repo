{
 "cells": [
  {
   "cell_type": "code",
   "execution_count": 1,
   "id": "79e9843a-58fb-4516-8999-f43beb6d3d34",
   "metadata": {
    "tags": []
   },
   "outputs": [],
   "source": [
    "from transformers import AutoModelForSequenceClassification, AutoTokenizer\n",
    "from textpruner import summary, TransformerPruner, TransformerPruningConfig\n",
    "import os\n",
    "os.environ['TRANSFORMERS_CACHE'] = \"/mnt/swordfish-pool2/harsha\"\n",
    "os.environ[\"CUDA_VISIBLE_DEVICES\"]=\"1\"\n"
   ]
  },
  {
   "cell_type": "code",
   "execution_count": 2,
   "id": "6b7680af-b6f3-455a-9112-f476a923ec07",
   "metadata": {
    "tags": []
   },
   "outputs": [],
   "source": [
    "# from transformers import AutoTokenizer, AutoModelForSequenceClassification\n",
    "\n",
    "tokenizer = AutoTokenizer.from_pretrained(\"philschmid/roberta-large-sst2\")\n",
    "\n",
    "model = AutoModelForSequenceClassification.from_pretrained(\"philschmid/roberta-large-sst2\")"
   ]
  },
  {
   "cell_type": "code",
   "execution_count": 3,
   "id": "94e74284-f942-4c5d-856e-8225c8acc4f0",
   "metadata": {
    "tags": []
   },
   "outputs": [
    {
     "name": "stdout",
     "output_type": "stream",
     "text": [
      "Before pruning:\n",
      "\n",
      "LAYER NAME       \t        #PARAMS\t     RATIO\t MEM(MB)\n",
      "--model:         \t    355,362,308\t   100.00%\t 1355.60\n",
      "  --roberta:     \t    354,310,658\t    99.70%\t 1351.59\n",
      "    --embeddings:\t     52,001,282\t    14.63%\t  198.37\n",
      "    --encoder:   \t    302,309,376\t    85.07%\t 1153.22\n",
      "  --classifier:  \t      1,051,650\t     0.30%\t    4.01\n",
      "    --dense:     \t      1,049,600\t     0.30%\t    4.00\n",
      "    --out_proj:  \t          2,050\t     0.00%\t    0.01\n",
      "\n"
     ]
    }
   ],
   "source": [
    "print(\"Before pruning:\")\n",
    "print(summary(model))"
   ]
  },
  {
   "cell_type": "code",
   "execution_count": 4,
   "id": "cde45263-7b07-4232-baab-fefdc1a7bf8d",
   "metadata": {
    "tags": []
   },
   "outputs": [
    {
     "name": "stderr",
     "output_type": "stream",
     "text": [
      "Found cached dataset sst2 (/home/hv2237/.cache/huggingface/datasets/sst2/default/2.0.0/9896208a8d85db057ac50c72282bcb8fe755accc671a57dd8059d4e130961ed5)\n"
     ]
    },
    {
     "data": {
      "application/vnd.jupyter.widget-view+json": {
       "model_id": "5397121af4b741a883e0c73ced91a161",
       "version_major": 2,
       "version_minor": 0
      },
      "text/plain": [
       "  0%|          | 0/3 [00:00<?, ?it/s]"
      ]
     },
     "metadata": {},
     "output_type": "display_data"
    }
   ],
   "source": [
    "from datasets import load_dataset\n",
    "\n",
    "dataset = load_dataset(\"sst2\")"
   ]
  },
  {
   "cell_type": "code",
   "execution_count": 5,
   "id": "520fbc7c-c61f-41ab-bcbe-6318793466e7",
   "metadata": {
    "tags": []
   },
   "outputs": [
    {
     "data": {
      "text/plain": [
       "DatasetDict({\n",
       "    train: Dataset({\n",
       "        features: ['idx', 'sentence', 'label'],\n",
       "        num_rows: 67349\n",
       "    })\n",
       "    validation: Dataset({\n",
       "        features: ['idx', 'sentence', 'label'],\n",
       "        num_rows: 872\n",
       "    })\n",
       "    test: Dataset({\n",
       "        features: ['idx', 'sentence', 'label'],\n",
       "        num_rows: 1821\n",
       "    })\n",
       "})"
      ]
     },
     "execution_count": 5,
     "metadata": {},
     "output_type": "execute_result"
    }
   ],
   "source": [
    "dataset"
   ]
  },
  {
   "cell_type": "code",
   "execution_count": 6,
   "id": "ee880626-58a7-45a1-84cb-4be80947593e",
   "metadata": {
    "tags": []
   },
   "outputs": [
    {
     "name": "stderr",
     "output_type": "stream",
     "text": [
      "Loading cached processed dataset at /home/hv2237/.cache/huggingface/datasets/sst2/default/2.0.0/9896208a8d85db057ac50c72282bcb8fe755accc671a57dd8059d4e130961ed5/cache-765d3ac95c2537c3.arrow\n"
     ]
    }
   ],
   "source": [
    "eval_dataset = dataset['validation'].map(lambda e: tokenizer(e['sentence'], truncation=True, padding='max_length'), batched=True)"
   ]
  },
  {
   "cell_type": "code",
   "execution_count": 7,
   "id": "607cf5e1-e5ee-45a9-b09a-ff50d1b8d5a7",
   "metadata": {
    "tags": []
   },
   "outputs": [],
   "source": [
    "eval_dataset.set_format(type='torch', columns=['input_ids', 'attention_mask', 'label'])"
   ]
  },
  {
   "cell_type": "code",
   "execution_count": 8,
   "id": "a2c78cb6-1856-45c5-a234-b470117c14e8",
   "metadata": {
    "tags": []
   },
   "outputs": [],
   "source": [
    "eval_dataset = eval_dataset.rename_column('label','labels')"
   ]
  },
  {
   "cell_type": "code",
   "execution_count": 9,
   "id": "92e9cfd8-3b7c-4a37-98d6-d1055368f33e",
   "metadata": {
    "tags": []
   },
   "outputs": [],
   "source": [
    "import torch\n",
    "dataloader = torch.utils.data.DataLoader(eval_dataset, batch_size=16)"
   ]
  },
  {
   "cell_type": "code",
   "execution_count": 10,
   "id": "267f6bf7-8514-4f9c-89a2-bd1a067c051c",
   "metadata": {
    "tags": []
   },
   "outputs": [
    {
     "name": "stderr",
     "output_type": "stream",
     "text": [
      "ffn_even_masking is False. Pruned model can only be save in TorchScript format manually.\n",
      "Calculating IS with logits: 100%|███████████████| 55/55 [01:02<00:00,  1.13s/it]\n",
      "Calculating IS with logits: 100%|███████████████| 55/55 [01:01<00:00,  1.12s/it]\n",
      "Calculating IS with logits: 100%|███████████████| 55/55 [01:01<00:00,  1.12s/it]\n",
      "Calculating IS with logits: 100%|███████████████| 55/55 [01:01<00:00,  1.12s/it]\n",
      "Calculating IS with logits: 100%|███████████████| 55/55 [01:01<00:00,  1.12s/it]\n",
      "Calculating IS with logits: 100%|███████████████| 55/55 [01:01<00:00,  1.12s/it]\n",
      "Calculating IS with logits: 100%|███████████████| 55/55 [01:01<00:00,  1.12s/it]\n",
      "Calculating IS with logits: 100%|███████████████| 55/55 [01:01<00:00,  1.12s/it]\n"
     ]
    }
   ],
   "source": [
    "def adatpor(model_outputs):\n",
    "    logits = model_outputs.logits\n",
    "    return logits #entropy(logits)\n",
    "\n",
    "\n",
    "transformer_pruning_config = TransformerPruningConfig(\n",
    "    target_ffn_size=1536, target_num_of_heads=6, \n",
    "    pruning_method='iterative',n_iters=8,use_logits=True,head_even_masking=False,ffn_even_masking=False)\n",
    "pruner = TransformerPruner(model,transformer_pruning_config=transformer_pruning_config)   \n",
    "pruner.prune(dataloader=dataloader, save_model=False, adaptor=adatpor)\n"
   ]
  },
  {
   "cell_type": "code",
   "execution_count": 11,
   "id": "11f369ec-212a-431b-9c74-6c865c805b35",
   "metadata": {
    "tags": []
   },
   "outputs": [
    {
     "name": "stdout",
     "output_type": "stream",
     "text": [
      "After pruning:\n",
      "\n",
      "LAYER NAME       \t        #PARAMS\t     RATIO\t MEM(MB)\n",
      "--model:         \t    166,511,108\t   100.00%\t  635.19\n",
      "  --roberta:     \t    165,459,458\t    99.37%\t  631.18\n",
      "    --embeddings:\t     52,001,282\t    31.23%\t  198.37\n",
      "    --encoder:   \t    113,458,176\t    68.14%\t  432.81\n",
      "  --classifier:  \t      1,051,650\t     0.63%\t    4.01\n",
      "    --dense:     \t      1,049,600\t     0.63%\t    4.00\n",
      "    --out_proj:  \t          2,050\t     0.00%\t    0.01\n",
      "\n",
      "(torch.Size([294, 1024]), torch.Size([294]), torch.Size([640, 1024]))\n",
      "(torch.Size([575, 1024]), torch.Size([575]), torch.Size([512, 1024]))\n",
      "(torch.Size([1294, 1024]), torch.Size([1294]), torch.Size([512, 1024]))\n",
      "(torch.Size([2430, 1024]), torch.Size([2430]), torch.Size([576, 1024]))\n",
      "(torch.Size([2465, 1024]), torch.Size([2465]), torch.Size([576, 1024]))\n",
      "(torch.Size([2108, 1024]), torch.Size([2108]), torch.Size([576, 1024]))\n",
      "(torch.Size([2022, 1024]), torch.Size([2022]), torch.Size([576, 1024]))\n",
      "(torch.Size([1947, 1024]), torch.Size([1947]), torch.Size([192, 1024]))\n",
      "(torch.Size([2324, 1024]), torch.Size([2324]), torch.Size([448, 1024]))\n",
      "(torch.Size([2508, 1024]), torch.Size([2508]), torch.Size([384, 1024]))\n",
      "(torch.Size([2196, 1024]), torch.Size([2196]), torch.Size([256, 1024]))\n",
      "(torch.Size([2160, 1024]), torch.Size([2160]), torch.Size([320, 1024]))\n"
     ]
    }
   ],
   "source": [
    "print(\"After pruning:\")\n",
    "print(summary(model))\n",
    "\n",
    "for i in range(12):\n",
    "    print ((model.base_model.encoder.layer[i].intermediate.dense.weight.shape,\n",
    "            model.base_model.encoder.layer[i].intermediate.dense.bias.shape,\n",
    "            model.base_model.encoder.layer[i].attention.self.key.weight.shape))\n"
   ]
  },
  {
   "cell_type": "code",
   "execution_count": 13,
   "id": "32ed011e-fa8d-4053-8d5a-cb0202f8b975",
   "metadata": {
    "tags": []
   },
   "outputs": [],
   "source": [
    "from transformers import TrainingArguments, Trainer\n",
    "import evaluate\n"
   ]
  },
  {
   "cell_type": "code",
   "execution_count": 17,
   "id": "05f514b5-f4b0-4ea0-9cf7-df17aa82a8d7",
   "metadata": {
    "tags": []
   },
   "outputs": [],
   "source": [
    "training_args = TrainingArguments(\n",
    "    output_dir='/mnt/swordfish-pool2/harsha/hpml',          #output directory\n",
    "    # learning_rate=1e-4,\n",
    "    # num_train_epochs=50,              \n",
    "    # per_device_train_batch_size=8,                #batch size per device during training\n",
    "    per_device_eval_batch_size=16,                #batch size for evaluation\n",
    "    # logging_dir='/content/drive/MyDrive/logs',            \n",
    "    # logging_steps=100,\n",
    "    # do_train=True,\n",
    "    do_eval=True,\n",
    "    no_cuda=False,\n",
    "    # load_best_model_at_end=True,\n",
    "    # save_strategy=\"epoch\",\n",
    "    # # eval_steps=100,\n",
    "    # metric_for_best_model = 'eval_loss',\n",
    "    # evaluation_strategy=\"epoch\"\n",
    ")\n",
    "acc = evaluate.load(\"accuracy\")\n",
    "import numpy as np\n",
    "def compute_metrics(eval_pred):\n",
    "    logits, labels = eval_pred\n",
    "    # print(inputs)\n",
    "    predictions = np.argmax(logits, axis=-1)\n",
    "    \n",
    "    return {\n",
    "        'accuracy': acc.compute(predictions=predictions, references=labels),\n",
    "        # 'precision': prec.compute(predictions=predictions, references=labels),\n",
    "        # 'recall': rec.compute(predictions=predictions, references=labels),\n",
    "        # 'f1': f1.compute(predictions=predictions, references=labels)\n",
    "    }\n"
   ]
  },
  {
   "cell_type": "code",
   "execution_count": 19,
   "id": "2e02f1b4-6dfa-483e-b085-28f310502896",
   "metadata": {
    "tags": []
   },
   "outputs": [
    {
     "name": "stderr",
     "output_type": "stream",
     "text": [
      "ffn_even_masking is False. Pruned model can only be save in TorchScript format manually.\n",
      "Calculating IS with logits: 100%|███████████████| 55/55 [01:01<00:00,  1.12s/it]\n",
      "Calculating IS with logits: 100%|███████████████| 55/55 [01:01<00:00,  1.12s/it]\n",
      "Calculating IS with logits: 100%|███████████████| 55/55 [01:01<00:00,  1.12s/it]\n",
      "Calculating IS with logits: 100%|███████████████| 55/55 [01:01<00:00,  1.11s/it]\n",
      "Calculating IS with logits: 100%|███████████████| 55/55 [01:01<00:00,  1.12s/it]\n",
      "Calculating IS with logits: 100%|███████████████| 55/55 [01:01<00:00,  1.12s/it]\n",
      "Calculating IS with logits: 100%|███████████████| 55/55 [01:01<00:00,  1.11s/it]\n",
      "Calculating IS with logits: 100%|███████████████| 55/55 [01:01<00:00,  1.11s/it]\n"
     ]
    },
    {
     "name": "stdout",
     "output_type": "stream",
     "text": [
      "Heads: 10\n",
      "\n",
      "LAYER NAME       \t        #PARAMS\t     RATIO\t MEM(MB)\n",
      "--model:         \t    191,695,364\t   100.00%\t  731.26\n",
      "  --roberta:     \t    190,643,714\t    99.45%\t  727.25\n",
      "    --embeddings:\t     52,001,282\t    27.13%\t  198.37\n",
      "    --encoder:   \t    138,642,432\t    72.32%\t  528.88\n",
      "  --classifier:  \t      1,051,650\t     0.55%\t    4.01\n",
      "    --dense:     \t      1,049,600\t     0.55%\t    4.00\n",
      "    --out_proj:  \t          2,050\t     0.00%\t    0.01\n",
      "\n"
     ]
    },
    {
     "data": {
      "text/html": [
       "\n",
       "    <div>\n",
       "      \n",
       "      <progress value='109' max='109' style='width:300px; height:20px; vertical-align: middle;'></progress>\n",
       "      [109/109 00:10]\n",
       "    </div>\n",
       "    "
      ],
      "text/plain": [
       "<IPython.core.display.HTML object>"
      ]
     },
     "metadata": {},
     "output_type": "display_data"
    },
    {
     "name": "stderr",
     "output_type": "stream",
     "text": [
      "Trainer is attempting to log a value of \"{'accuracy': 0.8405963302752294}\" of type <class 'dict'> for key \"eval/accuracy\" as a scalar. This invocation of Tensorboard's writer.add_scalar() is incorrect so we dropped this attribute.\n",
      "ffn_even_masking is False. Pruned model can only be save in TorchScript format manually.\n",
      "Calculating IS with logits: 100%|███████████████| 55/55 [01:01<00:00,  1.11s/it]\n",
      "Calculating IS with logits: 100%|███████████████| 55/55 [01:01<00:00,  1.11s/it]\n",
      "Calculating IS with logits: 100%|███████████████| 55/55 [01:01<00:00,  1.11s/it]\n",
      "Calculating IS with logits: 100%|███████████████| 55/55 [01:01<00:00,  1.11s/it]\n",
      "Calculating IS with logits: 100%|███████████████| 55/55 [01:01<00:00,  1.11s/it]\n",
      "Calculating IS with logits: 100%|███████████████| 55/55 [01:01<00:00,  1.11s/it]\n",
      "Calculating IS with logits: 100%|███████████████| 55/55 [01:01<00:00,  1.11s/it]\n",
      "Calculating IS with logits: 100%|███████████████| 55/55 [01:01<00:00,  1.11s/it]\n"
     ]
    },
    {
     "name": "stdout",
     "output_type": "stream",
     "text": [
      "Heads: 8\n",
      "\n",
      "LAYER NAME       \t        #PARAMS\t     RATIO\t MEM(MB)\n",
      "--model:         \t    179,103,236\t   100.00%\t  683.23\n",
      "  --roberta:     \t    178,051,586\t    99.41%\t  679.21\n",
      "    --embeddings:\t     52,001,282\t    29.03%\t  198.37\n",
      "    --encoder:   \t    126,050,304\t    70.38%\t  480.84\n",
      "  --classifier:  \t      1,051,650\t     0.59%\t    4.01\n",
      "    --dense:     \t      1,049,600\t     0.59%\t    4.00\n",
      "    --out_proj:  \t          2,050\t     0.00%\t    0.01\n",
      "\n"
     ]
    },
    {
     "data": {
      "text/html": [
       "\n",
       "    <div>\n",
       "      \n",
       "      <progress value='109' max='109' style='width:300px; height:20px; vertical-align: middle;'></progress>\n",
       "      [109/109 00:09]\n",
       "    </div>\n",
       "    "
      ],
      "text/plain": [
       "<IPython.core.display.HTML object>"
      ]
     },
     "metadata": {},
     "output_type": "display_data"
    },
    {
     "name": "stderr",
     "output_type": "stream",
     "text": [
      "Trainer is attempting to log a value of \"{'accuracy': 0.7557339449541285}\" of type <class 'dict'> for key \"eval/accuracy\" as a scalar. This invocation of Tensorboard's writer.add_scalar() is incorrect so we dropped this attribute.\n",
      "ffn_even_masking is False. Pruned model can only be save in TorchScript format manually.\n",
      "Calculating IS with logits: 100%|███████████████| 55/55 [01:01<00:00,  1.12s/it]\n",
      "Calculating IS with logits: 100%|███████████████| 55/55 [01:01<00:00,  1.11s/it]\n",
      "Calculating IS with logits: 100%|███████████████| 55/55 [01:01<00:00,  1.11s/it]\n",
      "Calculating IS with logits: 100%|███████████████| 55/55 [01:01<00:00,  1.11s/it]\n",
      "Calculating IS with logits: 100%|███████████████| 55/55 [01:01<00:00,  1.11s/it]\n",
      "Calculating IS with logits: 100%|███████████████| 55/55 [01:01<00:00,  1.11s/it]\n",
      "Calculating IS with logits: 100%|███████████████| 55/55 [01:01<00:00,  1.11s/it]\n",
      "Calculating IS with logits: 100%|███████████████| 55/55 [01:01<00:00,  1.11s/it]\n"
     ]
    },
    {
     "name": "stdout",
     "output_type": "stream",
     "text": [
      "Heads: 6\n",
      "\n",
      "LAYER NAME       \t        #PARAMS\t     RATIO\t MEM(MB)\n",
      "--model:         \t    166,511,108\t   100.00%\t  635.19\n",
      "  --roberta:     \t    165,459,458\t    99.37%\t  631.18\n",
      "    --embeddings:\t     52,001,282\t    31.23%\t  198.37\n",
      "    --encoder:   \t    113,458,176\t    68.14%\t  432.81\n",
      "  --classifier:  \t      1,051,650\t     0.63%\t    4.01\n",
      "    --dense:     \t      1,049,600\t     0.63%\t    4.00\n",
      "    --out_proj:  \t          2,050\t     0.00%\t    0.01\n",
      "\n"
     ]
    },
    {
     "data": {
      "text/html": [
       "\n",
       "    <div>\n",
       "      \n",
       "      <progress value='109' max='109' style='width:300px; height:20px; vertical-align: middle;'></progress>\n",
       "      [109/109 00:08]\n",
       "    </div>\n",
       "    "
      ],
      "text/plain": [
       "<IPython.core.display.HTML object>"
      ]
     },
     "metadata": {},
     "output_type": "display_data"
    },
    {
     "name": "stderr",
     "output_type": "stream",
     "text": [
      "Trainer is attempting to log a value of \"{'accuracy': 0.7522935779816514}\" of type <class 'dict'> for key \"eval/accuracy\" as a scalar. This invocation of Tensorboard's writer.add_scalar() is incorrect so we dropped this attribute.\n",
      "ffn_even_masking is False. Pruned model can only be save in TorchScript format manually.\n",
      "Calculating IS with logits: 100%|███████████████| 55/55 [01:01<00:00,  1.12s/it]\n",
      "Calculating IS with logits: 100%|███████████████| 55/55 [01:01<00:00,  1.11s/it]\n",
      "Calculating IS with logits: 100%|███████████████| 55/55 [01:01<00:00,  1.11s/it]\n",
      "Calculating IS with logits: 100%|███████████████| 55/55 [01:01<00:00,  1.11s/it]\n",
      "Calculating IS with logits: 100%|███████████████| 55/55 [01:01<00:00,  1.11s/it]\n",
      "Calculating IS with logits: 100%|███████████████| 55/55 [01:01<00:00,  1.11s/it]\n",
      "Calculating IS with logits: 100%|███████████████| 55/55 [01:01<00:00,  1.11s/it]\n",
      "Calculating IS with logits: 100%|███████████████| 55/55 [01:01<00:00,  1.11s/it]\n"
     ]
    },
    {
     "name": "stdout",
     "output_type": "stream",
     "text": [
      "Heads: 4\n",
      "\n",
      "LAYER NAME       \t        #PARAMS\t     RATIO\t MEM(MB)\n",
      "--model:         \t    153,918,980\t   100.00%\t  587.16\n",
      "  --roberta:     \t    152,867,330\t    99.32%\t  583.14\n",
      "    --embeddings:\t     52,001,282\t    33.78%\t  198.37\n",
      "    --encoder:   \t    100,866,048\t    65.53%\t  384.77\n",
      "  --classifier:  \t      1,051,650\t     0.68%\t    4.01\n",
      "    --dense:     \t      1,049,600\t     0.68%\t    4.00\n",
      "    --out_proj:  \t          2,050\t     0.00%\t    0.01\n",
      "\n"
     ]
    },
    {
     "data": {
      "text/html": [
       "\n",
       "    <div>\n",
       "      \n",
       "      <progress value='109' max='109' style='width:300px; height:20px; vertical-align: middle;'></progress>\n",
       "      [109/109 00:07]\n",
       "    </div>\n",
       "    "
      ],
      "text/plain": [
       "<IPython.core.display.HTML object>"
      ]
     },
     "metadata": {},
     "output_type": "display_data"
    },
    {
     "name": "stderr",
     "output_type": "stream",
     "text": [
      "Trainer is attempting to log a value of \"{'accuracy': 0.713302752293578}\" of type <class 'dict'> for key \"eval/accuracy\" as a scalar. This invocation of Tensorboard's writer.add_scalar() is incorrect so we dropped this attribute.\n"
     ]
    }
   ],
   "source": [
    "for heads in [10,8,6,4]:\n",
    "\n",
    "    model = AutoModelForSequenceClassification.from_pretrained(\"philschmid/roberta-large-sst2\")\n",
    "\n",
    "    transformer_pruning_config = TransformerPruningConfig(\n",
    "        target_ffn_size=1536, target_num_of_heads=heads, \n",
    "        pruning_method='iterative',n_iters=8,use_logits=True,head_even_masking=False,ffn_even_masking=False)\n",
    "    pruner = TransformerPruner(model,transformer_pruning_config=transformer_pruning_config)   \n",
    "    pruner.prune(dataloader=dataloader, save_model=False, adaptor=adatpor)\n",
    "\n",
    "    trainer = Trainer(\n",
    "        model=model,  # the instantiated 🤗 Transformers model to be trained\n",
    "        compute_metrics=compute_metrics,\n",
    "    )\n",
    "    print(f'Heads: {heads}')\n",
    "    print(summary(model))\n",
    "    trainer.evaluate(eval_dataset)"
   ]
  },
  {
   "cell_type": "code",
   "execution_count": 20,
   "id": "f3b30cf2-3f24-46eb-8140-df6ee6e53221",
   "metadata": {
    "tags": []
   },
   "outputs": [
    {
     "data": {
      "text/html": [
       "\n",
       "    <div>\n",
       "      \n",
       "      <progress value='109' max='109' style='width:300px; height:20px; vertical-align: middle;'></progress>\n",
       "      [109/109 00:20]\n",
       "    </div>\n",
       "    "
      ],
      "text/plain": [
       "<IPython.core.display.HTML object>"
      ]
     },
     "metadata": {},
     "output_type": "display_data"
    },
    {
     "name": "stderr",
     "output_type": "stream",
     "text": [
      "Trainer is attempting to log a value of \"{'accuracy': 0.9644495412844036}\" of type <class 'dict'> for key \"eval/accuracy\" as a scalar. This invocation of Tensorboard's writer.add_scalar() is incorrect so we dropped this attribute.\n"
     ]
    },
    {
     "data": {
      "text/plain": [
       "{'eval_loss': 0.13996513187885284,\n",
       " 'eval_accuracy': {'accuracy': 0.9644495412844036},\n",
       " 'eval_runtime': 20.6714,\n",
       " 'eval_samples_per_second': 42.184,\n",
       " 'eval_steps_per_second': 5.273}"
      ]
     },
     "execution_count": 20,
     "metadata": {},
     "output_type": "execute_result"
    }
   ],
   "source": [
    "model = AutoModelForSequenceClassification.from_pretrained(\"philschmid/roberta-large-sst2\")\n",
    "trainer = Trainer(\n",
    "        model=model,  # the instantiated 🤗 Transformers model to be trained\n",
    "        compute_metrics=compute_metrics,\n",
    "    )\n",
    "trainer.evaluate(eval_dataset)"
   ]
  },
  {
   "cell_type": "code",
   "execution_count": 21,
   "id": "a9ffc232-e276-4f2d-8a44-9e4aae194f9d",
   "metadata": {
    "tags": []
   },
   "outputs": [
    {
     "name": "stdout",
     "output_type": "stream",
     "text": [
      "(torch.Size([4096, 1024]), torch.Size([4096]), torch.Size([1024, 1024]))\n",
      "(torch.Size([4096, 1024]), torch.Size([4096]), torch.Size([1024, 1024]))\n",
      "(torch.Size([4096, 1024]), torch.Size([4096]), torch.Size([1024, 1024]))\n",
      "(torch.Size([4096, 1024]), torch.Size([4096]), torch.Size([1024, 1024]))\n",
      "(torch.Size([4096, 1024]), torch.Size([4096]), torch.Size([1024, 1024]))\n",
      "(torch.Size([4096, 1024]), torch.Size([4096]), torch.Size([1024, 1024]))\n",
      "(torch.Size([4096, 1024]), torch.Size([4096]), torch.Size([1024, 1024]))\n",
      "(torch.Size([4096, 1024]), torch.Size([4096]), torch.Size([1024, 1024]))\n",
      "(torch.Size([4096, 1024]), torch.Size([4096]), torch.Size([1024, 1024]))\n",
      "(torch.Size([4096, 1024]), torch.Size([4096]), torch.Size([1024, 1024]))\n",
      "(torch.Size([4096, 1024]), torch.Size([4096]), torch.Size([1024, 1024]))\n",
      "(torch.Size([4096, 1024]), torch.Size([4096]), torch.Size([1024, 1024]))\n"
     ]
    }
   ],
   "source": [
    "for i in range(12):\n",
    "    print ((model.base_model.encoder.layer[i].intermediate.dense.weight.shape,\n",
    "            model.base_model.encoder.layer[i].intermediate.dense.bias.shape,\n",
    "            model.base_model.encoder.layer[i].attention.self.key.weight.shape))"
   ]
  },
  {
   "cell_type": "code",
   "execution_count": 26,
   "id": "c4bb6af0-60c5-4551-af92-9bf84b9f6223",
   "metadata": {
    "tags": []
   },
   "outputs": [
    {
     "name": "stderr",
     "output_type": "stream",
     "text": [
      "ffn_even_masking is False. Pruned model can only be save in TorchScript format manually.\n",
      "Calculating IS with logits: 100%|███████████████| 55/55 [01:01<00:00,  1.12s/it]\n",
      "Calculating IS with logits: 100%|███████████████| 55/55 [01:01<00:00,  1.11s/it]\n",
      "Calculating IS with logits: 100%|███████████████| 55/55 [01:01<00:00,  1.11s/it]\n",
      "Calculating IS with logits: 100%|███████████████| 55/55 [01:01<00:00,  1.11s/it]\n",
      "Calculating IS with logits: 100%|███████████████| 55/55 [01:01<00:00,  1.11s/it]\n",
      "Calculating IS with logits: 100%|███████████████| 55/55 [01:01<00:00,  1.11s/it]\n",
      "Calculating IS with logits: 100%|███████████████| 55/55 [01:01<00:00,  1.11s/it]\n",
      "Calculating IS with logits: 100%|███████████████| 55/55 [01:01<00:00,  1.11s/it]\n"
     ]
    },
    {
     "name": "stdout",
     "output_type": "stream",
     "text": [
      "Heads: 10\n",
      "\n",
      "LAYER NAME       \t        #PARAMS\t     RATIO\t MEM(MB)\n",
      "--model:         \t    317,585,924\t   100.00%\t 1211.50\n",
      "  --roberta:     \t    316,534,274\t    99.67%\t 1207.48\n",
      "    --embeddings:\t     52,001,282\t    16.37%\t  198.37\n",
      "    --encoder:   \t    264,532,992\t    83.29%\t 1009.11\n",
      "  --classifier:  \t      1,051,650\t     0.33%\t    4.01\n",
      "    --dense:     \t      1,049,600\t     0.33%\t    4.00\n",
      "    --out_proj:  \t          2,050\t     0.00%\t    0.01\n",
      "\n"
     ]
    },
    {
     "data": {
      "text/html": [
       "\n",
       "    <div>\n",
       "      \n",
       "      <progress value='109' max='109' style='width:300px; height:20px; vertical-align: middle;'></progress>\n",
       "      [109/109 00:17]\n",
       "    </div>\n",
       "    "
      ],
      "text/plain": [
       "<IPython.core.display.HTML object>"
      ]
     },
     "metadata": {},
     "output_type": "display_data"
    },
    {
     "name": "stderr",
     "output_type": "stream",
     "text": [
      "Trainer is attempting to log a value of \"{'accuracy': 0.9621559633027523}\" of type <class 'dict'> for key \"eval/accuracy\" as a scalar. This invocation of Tensorboard's writer.add_scalar() is incorrect so we dropped this attribute.\n",
      "ffn_even_masking is False. Pruned model can only be save in TorchScript format manually.\n",
      "Calculating IS with logits: 100%|███████████████| 55/55 [01:01<00:00,  1.12s/it]\n",
      "Calculating IS with logits: 100%|███████████████| 55/55 [01:01<00:00,  1.12s/it]\n",
      "Calculating IS with logits: 100%|███████████████| 55/55 [01:01<00:00,  1.11s/it]\n",
      "Calculating IS with logits: 100%|███████████████| 55/55 [01:01<00:00,  1.11s/it]\n",
      "Calculating IS with logits: 100%|███████████████| 55/55 [01:01<00:00,  1.11s/it]\n",
      "Calculating IS with logits: 100%|███████████████| 55/55 [01:01<00:00,  1.11s/it]\n",
      "Calculating IS with logits: 100%|███████████████| 55/55 [01:01<00:00,  1.12s/it]\n",
      "Calculating IS with logits: 100%|███████████████| 55/55 [01:01<00:00,  1.11s/it]\n"
     ]
    },
    {
     "name": "stdout",
     "output_type": "stream",
     "text": [
      "Heads: 8\n",
      "\n",
      "LAYER NAME       \t        #PARAMS\t     RATIO\t MEM(MB)\n",
      "--model:         \t    304,993,796\t   100.00%\t 1163.46\n",
      "  --roberta:     \t    303,942,146\t    99.66%\t 1159.45\n",
      "    --embeddings:\t     52,001,282\t    17.05%\t  198.37\n",
      "    --encoder:   \t    251,940,864\t    82.61%\t  961.08\n",
      "  --classifier:  \t      1,051,650\t     0.34%\t    4.01\n",
      "    --dense:     \t      1,049,600\t     0.34%\t    4.00\n",
      "    --out_proj:  \t          2,050\t     0.00%\t    0.01\n",
      "\n"
     ]
    },
    {
     "data": {
      "text/html": [
       "\n",
       "    <div>\n",
       "      \n",
       "      <progress value='109' max='109' style='width:300px; height:20px; vertical-align: middle;'></progress>\n",
       "      [109/109 00:16]\n",
       "    </div>\n",
       "    "
      ],
      "text/plain": [
       "<IPython.core.display.HTML object>"
      ]
     },
     "metadata": {},
     "output_type": "display_data"
    },
    {
     "name": "stderr",
     "output_type": "stream",
     "text": [
      "Trainer is attempting to log a value of \"{'accuracy': 0.9610091743119266}\" of type <class 'dict'> for key \"eval/accuracy\" as a scalar. This invocation of Tensorboard's writer.add_scalar() is incorrect so we dropped this attribute.\n",
      "ffn_even_masking is False. Pruned model can only be save in TorchScript format manually.\n",
      "Calculating IS with logits: 100%|███████████████| 55/55 [01:01<00:00,  1.12s/it]\n",
      "Calculating IS with logits: 100%|███████████████| 55/55 [01:01<00:00,  1.11s/it]\n",
      "Calculating IS with logits: 100%|███████████████| 55/55 [01:01<00:00,  1.11s/it]\n",
      "Calculating IS with logits: 100%|███████████████| 55/55 [01:01<00:00,  1.11s/it]\n",
      "Calculating IS with logits: 100%|███████████████| 55/55 [01:01<00:00,  1.11s/it]\n",
      "Calculating IS with logits: 100%|███████████████| 55/55 [01:01<00:00,  1.12s/it]\n",
      "Calculating IS with logits: 100%|███████████████| 55/55 [01:01<00:00,  1.12s/it]\n",
      "Calculating IS with logits: 100%|███████████████| 55/55 [01:01<00:00,  1.11s/it]\n"
     ]
    },
    {
     "name": "stdout",
     "output_type": "stream",
     "text": [
      "Heads: 6\n",
      "\n",
      "LAYER NAME       \t        #PARAMS\t     RATIO\t MEM(MB)\n",
      "--model:         \t    292,401,668\t   100.00%\t 1115.43\n",
      "  --roberta:     \t    291,350,018\t    99.64%\t 1111.41\n",
      "    --embeddings:\t     52,001,282\t    17.78%\t  198.37\n",
      "    --encoder:   \t    239,348,736\t    81.86%\t  913.04\n",
      "  --classifier:  \t      1,051,650\t     0.36%\t    4.01\n",
      "    --dense:     \t      1,049,600\t     0.36%\t    4.00\n",
      "    --out_proj:  \t          2,050\t     0.00%\t    0.01\n",
      "\n"
     ]
    },
    {
     "data": {
      "text/html": [
       "\n",
       "    <div>\n",
       "      \n",
       "      <progress value='109' max='109' style='width:300px; height:20px; vertical-align: middle;'></progress>\n",
       "      [109/109 00:14]\n",
       "    </div>\n",
       "    "
      ],
      "text/plain": [
       "<IPython.core.display.HTML object>"
      ]
     },
     "metadata": {},
     "output_type": "display_data"
    },
    {
     "name": "stderr",
     "output_type": "stream",
     "text": [
      "Trainer is attempting to log a value of \"{'accuracy': 0.9529816513761468}\" of type <class 'dict'> for key \"eval/accuracy\" as a scalar. This invocation of Tensorboard's writer.add_scalar() is incorrect so we dropped this attribute.\n",
      "ffn_even_masking is False. Pruned model can only be save in TorchScript format manually.\n",
      "Calculating IS with logits: 100%|███████████████| 55/55 [01:01<00:00,  1.12s/it]\n",
      "Calculating IS with logits: 100%|███████████████| 55/55 [01:01<00:00,  1.12s/it]\n",
      "Calculating IS with logits: 100%|███████████████| 55/55 [01:01<00:00,  1.11s/it]\n",
      "Calculating IS with logits: 100%|███████████████| 55/55 [01:01<00:00,  1.11s/it]\n",
      "Calculating IS with logits: 100%|███████████████| 55/55 [01:01<00:00,  1.12s/it]\n",
      "Calculating IS with logits: 100%|███████████████| 55/55 [01:01<00:00,  1.12s/it]\n",
      "Calculating IS with logits: 100%|███████████████| 55/55 [01:01<00:00,  1.12s/it]\n",
      "Calculating IS with logits: 100%|███████████████| 55/55 [01:01<00:00,  1.11s/it]\n"
     ]
    },
    {
     "name": "stdout",
     "output_type": "stream",
     "text": [
      "Heads: 4\n",
      "\n",
      "LAYER NAME       \t        #PARAMS\t     RATIO\t MEM(MB)\n",
      "--model:         \t    279,809,540\t   100.00%\t 1067.39\n",
      "  --roberta:     \t    278,757,890\t    99.62%\t 1063.38\n",
      "    --embeddings:\t     52,001,282\t    18.58%\t  198.37\n",
      "    --encoder:   \t    226,756,608\t    81.04%\t  865.01\n",
      "  --classifier:  \t      1,051,650\t     0.38%\t    4.01\n",
      "    --dense:     \t      1,049,600\t     0.38%\t    4.00\n",
      "    --out_proj:  \t          2,050\t     0.00%\t    0.01\n",
      "\n"
     ]
    },
    {
     "data": {
      "text/html": [
       "\n",
       "    <div>\n",
       "      \n",
       "      <progress value='109' max='109' style='width:300px; height:20px; vertical-align: middle;'></progress>\n",
       "      [109/109 00:13]\n",
       "    </div>\n",
       "    "
      ],
      "text/plain": [
       "<IPython.core.display.HTML object>"
      ]
     },
     "metadata": {},
     "output_type": "display_data"
    },
    {
     "name": "stderr",
     "output_type": "stream",
     "text": [
      "Trainer is attempting to log a value of \"{'accuracy': 0.9288990825688074}\" of type <class 'dict'> for key \"eval/accuracy\" as a scalar. This invocation of Tensorboard's writer.add_scalar() is incorrect so we dropped this attribute.\n"
     ]
    }
   ],
   "source": [
    "for heads in [10,8,6,4]:\n",
    "\n",
    "    model = AutoModelForSequenceClassification.from_pretrained(\"philschmid/roberta-large-sst2\")\n",
    "\n",
    "    transformer_pruning_config = TransformerPruningConfig(\n",
    "        target_ffn_size=4096, target_num_of_heads=heads, \n",
    "        pruning_method='iterative',n_iters=8,use_logits=True,head_even_masking=False,ffn_even_masking=False)\n",
    "    pruner = TransformerPruner(model,transformer_pruning_config=transformer_pruning_config)   \n",
    "    pruner.prune(dataloader=dataloader, save_model=False, adaptor=adatpor)\n",
    "\n",
    "    trainer = Trainer(\n",
    "        model=model,  # the instantiated 🤗 Transformers model to be trained\n",
    "        compute_metrics=compute_metrics,\n",
    "    )\n",
    "    print(f'Heads: {heads}')\n",
    "    print(summary(model))\n",
    "    trainer.evaluate(eval_dataset)"
   ]
  },
  {
   "cell_type": "code",
   "execution_count": 29,
   "id": "a7bc5597-9bb6-4119-abce-61c5026829f9",
   "metadata": {
    "tags": []
   },
   "outputs": [
    {
     "name": "stderr",
     "output_type": "stream",
     "text": [
      "ffn_even_masking is False. Pruned model can only be save in TorchScript format manually.\n",
      "Calculating IS with logits: 100%|███████████████| 55/55 [01:01<00:00,  1.13s/it]\n",
      "Calculating IS with logits: 100%|███████████████| 55/55 [01:01<00:00,  1.12s/it]\n",
      "Calculating IS with logits: 100%|███████████████| 55/55 [01:01<00:00,  1.12s/it]\n",
      "Calculating IS with logits: 100%|███████████████| 55/55 [01:01<00:00,  1.12s/it]\n",
      "Calculating IS with logits: 100%|███████████████| 55/55 [01:01<00:00,  1.12s/it]\n",
      "Calculating IS with logits: 100%|███████████████| 55/55 [01:01<00:00,  1.12s/it]\n",
      "Calculating IS with logits: 100%|███████████████| 55/55 [01:01<00:00,  1.12s/it]\n",
      "Calculating IS with logits: 100%|███████████████| 55/55 [01:01<00:00,  1.12s/it]\n"
     ]
    },
    {
     "name": "stdout",
     "output_type": "stream",
     "text": [
      "Warning\n",
      "Warning\n",
      "Warning\n",
      "Warning\n",
      "Warning\n",
      "Heads: 2\n",
      "\n",
      "LAYER NAME       \t        #PARAMS\t     RATIO\t MEM(MB)\n",
      "--model:         \t    268,529,092\t   100.00%\t 1024.36\n",
      "  --roberta:     \t    267,477,442\t    99.61%\t 1020.35\n",
      "    --embeddings:\t     52,001,282\t    19.37%\t  198.37\n",
      "    --encoder:   \t    215,476,160\t    80.24%\t  821.98\n",
      "  --classifier:  \t      1,051,650\t     0.39%\t    4.01\n",
      "    --dense:     \t      1,049,600\t     0.39%\t    4.00\n",
      "    --out_proj:  \t          2,050\t     0.00%\t    0.01\n",
      "\n"
     ]
    },
    {
     "data": {
      "text/html": [
       "\n",
       "    <div>\n",
       "      \n",
       "      <progress value='109' max='109' style='width:300px; height:20px; vertical-align: middle;'></progress>\n",
       "      [109/109 00:12]\n",
       "    </div>\n",
       "    "
      ],
      "text/plain": [
       "<IPython.core.display.HTML object>"
      ]
     },
     "metadata": {},
     "output_type": "display_data"
    },
    {
     "name": "stderr",
     "output_type": "stream",
     "text": [
      "Trainer is attempting to log a value of \"{'accuracy': 0.8658256880733946}\" of type <class 'dict'> for key \"eval/accuracy\" as a scalar. This invocation of Tensorboard's writer.add_scalar() is incorrect so we dropped this attribute.\n",
      "ffn_even_masking is False. Pruned model can only be save in TorchScript format manually.\n",
      "Calculating IS with logits: 100%|███████████████| 55/55 [01:01<00:00,  1.12s/it]\n",
      "Calculating IS with logits: 100%|███████████████| 55/55 [01:01<00:00,  1.12s/it]\n",
      "Calculating IS with logits: 100%|███████████████| 55/55 [01:01<00:00,  1.12s/it]\n",
      "Calculating IS with logits: 100%|███████████████| 55/55 [01:01<00:00,  1.12s/it]\n",
      "Calculating IS with logits: 100%|███████████████| 55/55 [01:01<00:00,  1.12s/it]\n",
      "Calculating IS with logits: 100%|███████████████| 55/55 [01:01<00:00,  1.12s/it]\n",
      "Calculating IS with logits: 100%|███████████████| 55/55 [01:01<00:00,  1.12s/it]\n"
     ]
    },
    {
     "name": "stdout",
     "output_type": "stream",
     "text": [
      "Warning\n"
     ]
    },
    {
     "name": "stderr",
     "output_type": "stream",
     "text": [
      "Calculating IS with logits: 100%|███████████████| 55/55 [01:01<00:00,  1.11s/it]\n"
     ]
    },
    {
     "name": "stdout",
     "output_type": "stream",
     "text": [
      "Warning\n",
      "Warning\n",
      "Warning\n",
      "Warning\n",
      "Warning\n",
      "Warning\n",
      "Warning\n",
      "Warning\n",
      "Warning\n",
      "Warning\n",
      "Warning\n",
      "Warning\n",
      "Heads: 1\n",
      "\n",
      "LAYER NAME       \t        #PARAMS\t     RATIO\t MEM(MB)\n",
      "--model:         \t    264,069,380\t   100.00%\t 1007.35\n",
      "  --roberta:     \t    263,017,730\t    99.60%\t 1003.33\n",
      "    --embeddings:\t     52,001,282\t    19.69%\t  198.37\n",
      "    --encoder:   \t    211,016,448\t    79.91%\t  804.96\n",
      "  --classifier:  \t      1,051,650\t     0.40%\t    4.01\n",
      "    --dense:     \t      1,049,600\t     0.40%\t    4.00\n",
      "    --out_proj:  \t          2,050\t     0.00%\t    0.01\n",
      "\n"
     ]
    },
    {
     "data": {
      "text/html": [
       "\n",
       "    <div>\n",
       "      \n",
       "      <progress value='109' max='109' style='width:300px; height:20px; vertical-align: middle;'></progress>\n",
       "      [109/109 00:12]\n",
       "    </div>\n",
       "    "
      ],
      "text/plain": [
       "<IPython.core.display.HTML object>"
      ]
     },
     "metadata": {},
     "output_type": "display_data"
    },
    {
     "name": "stderr",
     "output_type": "stream",
     "text": [
      "Trainer is attempting to log a value of \"{'accuracy': 0.6169724770642202}\" of type <class 'dict'> for key \"eval/accuracy\" as a scalar. This invocation of Tensorboard's writer.add_scalar() is incorrect so we dropped this attribute.\n"
     ]
    }
   ],
   "source": [
    "for heads in [2,1]:\n",
    "\n",
    "    model = AutoModelForSequenceClassification.from_pretrained(\"philschmid/roberta-large-sst2\")\n",
    "\n",
    "    transformer_pruning_config = TransformerPruningConfig(\n",
    "        target_ffn_size=4096, target_num_of_heads=heads, \n",
    "        pruning_method='iterative',n_iters=8,use_logits=True,head_even_masking=False,ffn_even_masking=False)\n",
    "    pruner = TransformerPruner(model,transformer_pruning_config=transformer_pruning_config)   \n",
    "    pruner.prune(dataloader=dataloader, save_model=False, adaptor=adatpor)\n",
    "\n",
    "    trainer = Trainer(\n",
    "        model=model,  # the instantiated 🤗 Transformers model to be trained\n",
    "        compute_metrics=compute_metrics,\n",
    "    )\n",
    "    print(f'Heads: {heads}')\n",
    "    print(summary(model))\n",
    "    trainer.evaluate(eval_dataset)"
   ]
  },
  {
   "cell_type": "code",
   "execution_count": 23,
   "id": "a75aee76-f46f-4a82-a49b-8ff1e9b58733",
   "metadata": {
    "tags": []
   },
   "outputs": [],
   "source": [
    "from transformers import RobertaConfig"
   ]
  },
  {
   "cell_type": "code",
   "execution_count": 24,
   "id": "841eefee-d3df-45da-863c-b29e05f42507",
   "metadata": {
    "tags": []
   },
   "outputs": [],
   "source": [
    "config = RobertaConfig.from_pretrained('roberta-large')"
   ]
  },
  {
   "cell_type": "code",
   "execution_count": 25,
   "id": "88b45766-9f98-4679-8df4-01b51d177d28",
   "metadata": {
    "tags": []
   },
   "outputs": [
    {
     "data": {
      "text/plain": [
       "RobertaConfig {\n",
       "  \"architectures\": [\n",
       "    \"RobertaForMaskedLM\"\n",
       "  ],\n",
       "  \"attention_probs_dropout_prob\": 0.1,\n",
       "  \"bos_token_id\": 0,\n",
       "  \"classifier_dropout\": null,\n",
       "  \"eos_token_id\": 2,\n",
       "  \"hidden_act\": \"gelu\",\n",
       "  \"hidden_dropout_prob\": 0.1,\n",
       "  \"hidden_size\": 1024,\n",
       "  \"initializer_range\": 0.02,\n",
       "  \"intermediate_size\": 4096,\n",
       "  \"layer_norm_eps\": 1e-05,\n",
       "  \"max_position_embeddings\": 514,\n",
       "  \"model_type\": \"roberta\",\n",
       "  \"num_attention_heads\": 16,\n",
       "  \"num_hidden_layers\": 24,\n",
       "  \"pad_token_id\": 1,\n",
       "  \"position_embedding_type\": \"absolute\",\n",
       "  \"transformers_version\": \"4.27.2\",\n",
       "  \"type_vocab_size\": 1,\n",
       "  \"use_cache\": true,\n",
       "  \"vocab_size\": 50265\n",
       "}"
      ]
     },
     "execution_count": 25,
     "metadata": {},
     "output_type": "execute_result"
    }
   ],
   "source": [
    "config"
   ]
  },
  {
   "cell_type": "code",
   "execution_count": 28,
   "id": "1ee21bd4-0106-4194-a57d-34a337fdae08",
   "metadata": {
    "tags": []
   },
   "outputs": [
    {
     "name": "stderr",
     "output_type": "stream",
     "text": [
      "ffn_even_masking is False. Pruned model can only be save in TorchScript format manually.\n",
      "Calculating IS with logits: 100%|███████████████| 55/55 [01:01<00:00,  1.12s/it]\n",
      "Calculating IS with logits: 100%|███████████████| 55/55 [01:01<00:00,  1.12s/it]\n",
      "Calculating IS with logits: 100%|███████████████| 55/55 [01:01<00:00,  1.12s/it]\n",
      "Calculating IS with logits: 100%|███████████████| 55/55 [01:01<00:00,  1.12s/it]\n",
      "Calculating IS with logits: 100%|███████████████| 55/55 [01:01<00:00,  1.12s/it]\n",
      "Calculating IS with logits: 100%|███████████████| 55/55 [01:01<00:00,  1.12s/it]\n",
      "Calculating IS with logits: 100%|███████████████| 55/55 [01:01<00:00,  1.12s/it]\n",
      "Calculating IS with logits: 100%|███████████████| 55/55 [01:01<00:00,  1.12s/it]\n"
     ]
    },
    {
     "name": "stdout",
     "output_type": "stream",
     "text": [
      "Heads: 4\n",
      "\n",
      "LAYER NAME       \t        #PARAMS\t     RATIO\t MEM(MB)\n",
      "--model:         \t    229,465,604\t   100.00%\t  875.34\n",
      "  --roberta:     \t    228,413,954\t    99.54%\t  871.33\n",
      "    --embeddings:\t     52,001,282\t    22.66%\t  198.37\n",
      "    --encoder:   \t    176,412,672\t    76.88%\t  672.96\n",
      "  --classifier:  \t      1,051,650\t     0.46%\t    4.01\n",
      "    --dense:     \t      1,049,600\t     0.46%\t    4.00\n",
      "    --out_proj:  \t          2,050\t     0.00%\t    0.01\n",
      "\n"
     ]
    },
    {
     "data": {
      "text/html": [
       "\n",
       "    <div>\n",
       "      \n",
       "      <progress value='109' max='109' style='width:300px; height:20px; vertical-align: middle;'></progress>\n",
       "      [109/109 00:13]\n",
       "    </div>\n",
       "    "
      ],
      "text/plain": [
       "<IPython.core.display.HTML object>"
      ]
     },
     "metadata": {},
     "output_type": "display_data"
    },
    {
     "name": "stderr",
     "output_type": "stream",
     "text": [
      "Trainer is attempting to log a value of \"{'accuracy': 0.9506880733944955}\" of type <class 'dict'> for key \"eval/accuracy\" as a scalar. This invocation of Tensorboard's writer.add_scalar() is incorrect so we dropped this attribute.\n",
      "ffn_even_masking is False. Pruned model can only be save in TorchScript format manually.\n",
      "Calculating IS with logits: 100%|███████████████| 55/55 [01:01<00:00,  1.12s/it]\n",
      "Calculating IS with logits: 100%|███████████████| 55/55 [01:01<00:00,  1.12s/it]\n",
      "Calculating IS with logits: 100%|███████████████| 55/55 [01:01<00:00,  1.12s/it]\n",
      "Calculating IS with logits: 100%|███████████████| 55/55 [01:01<00:00,  1.11s/it]\n",
      "Calculating IS with logits: 100%|███████████████| 55/55 [01:01<00:00,  1.12s/it]\n",
      "Calculating IS with logits: 100%|███████████████| 55/55 [01:01<00:00,  1.12s/it]\n",
      "Calculating IS with logits: 100%|███████████████| 55/55 [01:01<00:00,  1.12s/it]\n",
      "Calculating IS with logits: 100%|███████████████| 55/55 [01:01<00:00,  1.12s/it]\n"
     ]
    },
    {
     "name": "stdout",
     "output_type": "stream",
     "text": [
      "Heads: 4\n",
      "\n",
      "LAYER NAME       \t        #PARAMS\t     RATIO\t MEM(MB)\n",
      "--model:         \t    179,109,380\t   100.00%\t  683.25\n",
      "  --roberta:     \t    178,057,730\t    99.41%\t  679.24\n",
      "    --embeddings:\t     52,001,282\t    29.03%\t  198.37\n",
      "    --encoder:   \t    126,056,448\t    70.38%\t  480.87\n",
      "  --classifier:  \t      1,051,650\t     0.59%\t    4.01\n",
      "    --dense:     \t      1,049,600\t     0.59%\t    4.00\n",
      "    --out_proj:  \t          2,050\t     0.00%\t    0.01\n",
      "\n"
     ]
    },
    {
     "data": {
      "text/html": [
       "\n",
       "    <div>\n",
       "      \n",
       "      <progress value='109' max='109' style='width:300px; height:20px; vertical-align: middle;'></progress>\n",
       "      [109/109 00:10]\n",
       "    </div>\n",
       "    "
      ],
      "text/plain": [
       "<IPython.core.display.HTML object>"
      ]
     },
     "metadata": {},
     "output_type": "display_data"
    },
    {
     "name": "stderr",
     "output_type": "stream",
     "text": [
      "Trainer is attempting to log a value of \"{'accuracy': 0.819954128440367}\" of type <class 'dict'> for key \"eval/accuracy\" as a scalar. This invocation of Tensorboard's writer.add_scalar() is incorrect so we dropped this attribute.\n",
      "ffn_even_masking is False. Pruned model can only be save in TorchScript format manually.\n",
      "Calculating IS with logits: 100%|███████████████| 55/55 [01:01<00:00,  1.12s/it]\n",
      "Calculating IS with logits: 100%|███████████████| 55/55 [01:01<00:00,  1.12s/it]\n",
      "Calculating IS with logits: 100%|███████████████| 55/55 [01:01<00:00,  1.12s/it]\n",
      "Calculating IS with logits: 100%|███████████████| 55/55 [01:01<00:00,  1.12s/it]\n",
      "Calculating IS with logits: 100%|███████████████| 55/55 [01:01<00:00,  1.12s/it]\n",
      "Calculating IS with logits: 100%|███████████████| 55/55 [01:01<00:00,  1.11s/it]\n",
      "Calculating IS with logits: 100%|███████████████| 55/55 [01:01<00:00,  1.12s/it]\n",
      "Calculating IS with logits: 100%|███████████████| 55/55 [01:01<00:00,  1.11s/it]\n"
     ]
    },
    {
     "name": "stdout",
     "output_type": "stream",
     "text": [
      "Heads: 4\n",
      "\n",
      "LAYER NAME       \t        #PARAMS\t     RATIO\t MEM(MB)\n",
      "--model:         \t    153,931,268\t   100.00%\t  587.20\n",
      "  --roberta:     \t    152,879,618\t    99.32%\t  583.19\n",
      "    --embeddings:\t     52,001,282\t    33.78%\t  198.37\n",
      "    --encoder:   \t    100,878,336\t    65.53%\t  384.82\n",
      "  --classifier:  \t      1,051,650\t     0.68%\t    4.01\n",
      "    --dense:     \t      1,049,600\t     0.68%\t    4.00\n",
      "    --out_proj:  \t          2,050\t     0.00%\t    0.01\n",
      "\n"
     ]
    },
    {
     "data": {
      "text/html": [
       "\n",
       "    <div>\n",
       "      \n",
       "      <progress value='109' max='109' style='width:300px; height:20px; vertical-align: middle;'></progress>\n",
       "      [109/109 00:09]\n",
       "    </div>\n",
       "    "
      ],
      "text/plain": [
       "<IPython.core.display.HTML object>"
      ]
     },
     "metadata": {},
     "output_type": "display_data"
    },
    {
     "name": "stderr",
     "output_type": "stream",
     "text": [
      "Trainer is attempting to log a value of \"{'accuracy': 0.5206422018348624}\" of type <class 'dict'> for key \"eval/accuracy\" as a scalar. This invocation of Tensorboard's writer.add_scalar() is incorrect so we dropped this attribute.\n"
     ]
    }
   ],
   "source": [
    "for ffn in [2048,1024,512]:\n",
    "\n",
    "    model = AutoModelForSequenceClassification.from_pretrained(\"philschmid/roberta-large-sst2\")\n",
    "\n",
    "    transformer_pruning_config = TransformerPruningConfig(\n",
    "        target_ffn_size=ffn, target_num_of_heads=12, \n",
    "        pruning_method='iterative',n_iters=8,use_logits=True,head_even_masking=False,ffn_even_masking=False)\n",
    "    pruner = TransformerPruner(model,transformer_pruning_config=transformer_pruning_config)   \n",
    "    pruner.prune(dataloader=dataloader, save_model=False, adaptor=adatpor)\n",
    "\n",
    "    trainer = Trainer(\n",
    "        model=model,  # the instantiated 🤗 Transformers model to be trained\n",
    "        compute_metrics=compute_metrics,\n",
    "    )\n",
    "    print(f'Heads: {heads}')\n",
    "    print(summary(model))\n",
    "    trainer.evaluate(eval_dataset)"
   ]
  },
  {
   "cell_type": "markdown",
   "id": "50a00237-fd07-4ca4-a76f-aa42d292c8e6",
   "metadata": {},
   "source": [
    "# Hidden size vs Accuracy"
   ]
  },
  {
   "cell_type": "code",
   "execution_count": 30,
   "id": "bd473959-65ee-4704-8db1-fb0566332672",
   "metadata": {
    "tags": []
   },
   "outputs": [],
   "source": [
    "import matplotlib.pyplot as plt"
   ]
  },
  {
   "cell_type": "code",
   "execution_count": 37,
   "id": "29e72568-0159-4e45-8b0d-29b933f6f389",
   "metadata": {
    "tags": []
   },
   "outputs": [
    {
     "data": {
      "image/png": "[encoded data removed]",
      "text/plain": [
       "<Figure size 640x480 with 1 Axes>"
      ]
     },
     "metadata": {},
     "output_type": "display_data"
    }
   ],
   "source": [
    "hidden = [4096,2048,1024,512]\n",
    "accuracy = [0.96, 0.95,0.81,0.52]\n",
    "\n",
    "# Plot the line\n",
    "plt.plot(hidden, accuracy)\n",
    "plt.scatter(hidden, accuracy, marker='v', color='r')\n",
    "# Add a title and axis labels\n",
    "plt.title(\"FFN dim vs Accuracy\")\n",
    "plt.xlabel(\"FFN dim \")\n",
    "plt.ylabel(\"Accuracy\")\n",
    "\n",
    "# Show the plot\n",
    "plt.show()"
   ]
  },
  {
   "cell_type": "markdown",
   "id": "9bab0b3a-b93e-4381-9a71-4198a33c929e",
   "metadata": {},
   "source": [
    "# No of heads vs Accuracy"
   ]
  },
  {
   "cell_type": "code",
   "execution_count": 38,
   "id": "57271924-f7b4-4046-a826-bd15ba6ad5b8",
   "metadata": {
    "tags": []
   },
   "outputs": [
    {
     "data": {
      "image/png": "[encoded data removed]",
      "text/plain": [
       "<Figure size 640x480 with 1 Axes>"
      ]
     },
     "metadata": {},
     "output_type": "display_data"
    }
   ],
   "source": [
    "heads = [12,10,8,6,4,2,1]\n",
    "accuracy = [0.96,0.96,0.96,0.95,0.92,0.86, 0.61]\n",
    "plt.plot(heads, accuracy)\n",
    "plt.scatter(heads, accuracy, marker='v', color='r')\n",
    "\n",
    "# Add a title and axis labels\n",
    "plt.title(\"Attention heads vs Accuracy\")\n",
    "plt.xlabel(\"No of heads \")\n",
    "plt.ylabel(\"Accuracy\")\n",
    "\n",
    "# Show the plot\n",
    "plt.show()"
   ]
  },
  {
   "cell_type": "markdown",
   "id": "9cb06340-49a5-49fa-8c53-3a9d2b743f34",
   "metadata": {},
   "source": [
    "# No of heads vs size of model"
   ]
  },
  {
   "cell_type": "code",
   "execution_count": 40,
   "id": "1a4a6af9-7684-4a14-bd0c-b65a693bce81",
   "metadata": {
    "tags": []
   },
   "outputs": [
    {
     "data": {
      "image/png": "[encoded data removed]",
      "text/plain": [
       "<Figure size 640x480 with 1 Axes>"
      ]
     },
     "metadata": {},
     "output_type": "display_data"
    }
   ],
   "source": [
    "heads = [12,10,8,6,4,2,1]\n",
    "modelsize = [1355.60, 1211.5, 1163.46, 1115.43, 1067.39, 1024.29, 1007]\n",
    "plt.plot(heads, modelsize)\n",
    "plt.scatter(heads, modelsize, marker='v', color='r')\n",
    "\n",
    "# Add a title and axis labels\n",
    "plt.title(\"Attention heads vs Model size\")\n",
    "plt.xlabel(\"No of heads\")\n",
    "plt.ylabel(\"Model Size (MB)\")\n",
    "\n",
    "# Show the plot\n",
    "plt.show()"
   ]
  },
  {
   "cell_type": "markdown",
   "id": "c2bc77b6-737e-40ac-88e3-78d78325cc6f",
   "metadata": {},
   "source": [
    "# Hidden Size vs size of model"
   ]
  },
  {
   "cell_type": "code",
   "execution_count": 41,
   "id": "1a99cd3e-26c5-44ed-88bb-fbf30b54e90c",
   "metadata": {
    "tags": []
   },
   "outputs": [
    {
     "data": {
      "image/png": "[encoded data removed]",
      "text/plain": [
       "<Figure size 640x480 with 1 Axes>"
      ]
     },
     "metadata": {},
     "output_type": "display_data"
    }
   ],
   "source": [
    "hidden = [4096,2048,1024,512]\n",
    "modelsize = [1355.60, 873.34,683.25,587.20]\n",
    "plt.plot(hidden, modelsize)\n",
    "plt.scatter(hidden, modelsize, marker='v', color='r')\n",
    "\n",
    "# Add a title and axis labels\n",
    "plt.title(\"FFN dim vs Model size\")\n",
    "plt.xlabel(\"FFN dim\")\n",
    "plt.ylabel(\"Model Size (MB)\")\n",
    "\n",
    "# Show the plot\n",
    "plt.show()"
   ]
  },
  {
   "cell_type": "code",
   "execution_count": null,
   "id": "c608ce2d-9595-4a91-98ed-7fd4b3e30fb0",
   "metadata": {},
   "outputs": [],
   "source": []
  }
 ],
 "metadata": {
  "kernelspec": {
   "display_name": "Python 3 (ipykernel)",
   "language": "python",
   "name": "python3"
  },
  "language_info": {
   "codemirror_mode": {
    "name": "ipython",
    "version": 3
   },
   "file_extension": ".py",
   "mimetype": "text/x-python",
   "name": "python",
   "nbconvert_exporter": "python",
   "pygments_lexer": "ipython3",
   "version": "3.8.10"
  }
 },
 "nbformat": 4,
 "nbformat_minor": 5
}
